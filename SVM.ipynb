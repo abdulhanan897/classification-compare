{
 "cells": [
  {
   "cell_type": "code",
   "execution_count": 16,
   "metadata": {},
   "outputs": [],
   "source": [
    "import pandas as pd\n",
    "import os\n",
    "import cv2\n",
    "from skimage.transform import resize\n",
    "from skimage.io import imread\n",
    "import numpy as np\n",
    "import matplotlib.pyplot as plt\n",
    "from skimage.feature import hog\n",
    "from skimage import exposure\n",
    "import matplotlib.pyplot as plt\n",
    "from sklearn.svm import SVC\n",
    "from sklearn.model_selection import GridSearchCV\n",
    "from sklearn.inspection import DecisionBoundaryDisplay\n",
    "from sklearn.metrics import ConfusionMatrixDisplay\n",
    "import joblib\n",
    "Categories = [\"left\", \"right\", \"start\", \"stop\"]\n",
    "data_arr = []  # input array\n",
    "target_arr = []  # output array\n",
    "datadir = \"./data/\"\n"
   ]
  },
  {
   "cell_type": "code",
   "execution_count": 10,
   "metadata": {},
   "outputs": [
    {
     "name": "stdout",
     "output_type": "stream",
     "text": [
      "loading... category : left\n",
      "loaded category:left successfully\n",
      "loading... category : right\n",
      "loaded category:right successfully\n",
      "loading... category : start\n",
      "loaded category:start successfully\n",
      "loading... category : stop\n",
      "loaded category:stop successfully\n"
     ]
    }
   ],
   "source": [
    "# path which contains all the categories of images\n",
    "for i in Categories:\n",
    "    print(f\"loading... category : {i}\")\n",
    "    path = os.path.join(datadir, i)\n",
    "    for img in os.listdir(path):\n",
    "        img_array = imread(os.path.join(path, img))\n",
    "        sample_image = cv2.resize(img_array, (128*4, 64*4))\n",
    "        sample_image = cv2.cvtColor(sample_image, cv2.COLOR_BGR2GRAY)\n",
    "        fd, hog_image = hog(\n",
    "            sample_image,\n",
    "            orientations=8,\n",
    "            pixels_per_cell=(16, 16),\n",
    "            cells_per_block=(1, 1),\n",
    "            visualize=True,\n",
    "        )\n",
    "        data_arr.append(fd)\n",
    "        target_arr.append(Categories.index(i))\n",
    "    print(f\"loaded category:{i} successfully\")\n",
    "data = np.array(data_arr)\n",
    "target = np.array(target_arr)\n",
    "df = pd.DataFrame(data)  # dataframe\n",
    "df[\"Target\"] = target\n",
    "x = df.iloc[:, :-1]  # input data\n",
    "y = df.iloc[:, -1]  # output data"
   ]
  },
  {
   "cell_type": "code",
   "execution_count": 17,
   "metadata": {},
   "outputs": [],
   "source": [
    "# param_grid = {\n",
    "#     \"C\": [0.1, 1, 10, 100],\n",
    "#     \"gamma\": [0.0001, 0.001, 0.1, 1],\n",
    "#     \"kernel\": [\"rbf\"],\n",
    "# }\n",
    "# svc = svm.SVC(probability=True)\n",
    "# model = GridSearchCV(svc, param_grid)\n",
    "model = SVC(C=10,gamma=0.1, kernel=\"rbf\", probability=True)"
   ]
  },
  {
   "cell_type": "code",
   "execution_count": 18,
   "metadata": {},
   "outputs": [
    {
     "name": "stdout",
     "output_type": "stream",
     "text": [
      "Splitted Successfully\n",
      "The Model is trained well with the given images\n"
     ]
    }
   ],
   "source": [
    "from sklearn.model_selection import train_test_split\n",
    "x_train,x_test,y_train,y_test=train_test_split(x,y,test_size=0.20,random_state=77,stratify=y)\n",
    "print('Splitted Successfully')\n",
    "model.fit(x_train,y_train)\n",
    "print('The Model is trained well with the given images')\n",
    "# model.best_params_ contains the best parameters obtained from GridSearchCV"
   ]
  },
  {
   "cell_type": "code",
   "execution_count": 19,
   "metadata": {},
   "outputs": [],
   "source": [
    "filename = \"finalized_model.sav\"\n",
    "joblib.dump(model, filename)\n",
    "model = joblib.load(\"finalized_model.sav\")"
   ]
  },
  {
   "cell_type": "code",
   "execution_count": 24,
   "metadata": {},
   "outputs": [
    {
     "name": "stdout",
     "output_type": "stream",
     "text": [
      "The predicted Data is :\n",
      "[1 0 1 2 3 1 1 3 1 1 0 1 0 0 1 1 2 0 1 1 1 1 3 2 1 1 1 1 1 1 1 0 0 0 3 1 1\n",
      " 2 1 1 1 0 1 1 3 1 0 3 1 1 2 1 1 1 3 1 3 1 1 1 1 1 2 1 1 1 0 1 1 1 1 0 0 1\n",
      " 0 1 1 3 1 1 1 1 1 1 1 1 0 1 1 1 1 2 0 1 1 3 3 3 1 3 1 1 1 1 1 0 1 1 0 1 1\n",
      " 1 1 1 1 1 1 1 1 1 1 1 3 3 1 0 1 1 1 3 0 1 1 1 1 1 1 0 1 0 1 1 1 1 1 1 1 3\n",
      " 0 0 1 1 1 3 1 1 0 0 1 1 3 1 1 2 1 1 1 1 0 3 1 3 1 0 3 1 1 1 1 2 0 0 1 1 1\n",
      " 1 1 1 1 0 0 0 1 1 1 0 1 3 1 1 0 1 0 3 1 1 1 0 1 1 1 1 1 3 1 3 1 1 1 0 1 3\n",
      " 1 1 1 1 1 1 2 2 0 1 3 3 0 3 1 1 1 0 1 1 1 1 1 0 1 1 1 1 0 3 1 0 1 0 1 0 1\n",
      " 1 1 1 1 3 1 1 1 1 1 3 3 0 1 0 1 0 1 1 1 1 1 1 1 3 1 1 0 1 3 1 1 3 1 0 1 1\n",
      " 0 1 0 0 1 0 3 0 1 1 1 1 1 0 2 0 1 2 1 1 1 0 1 1 0 1 1 1 1 1 2 0 1 1 3 1 0\n",
      " 1 0 3 1 1 1 1 3 0 0 1 1 1 0 1 1 1 0 1 1 1 1 3 1 2 3 1 1 1 1 1 1]\n",
      "The actual data is:\n",
      "[1 0 2 2 3 1 2 3 2 3 0 1 0 0 1 1 2 0 2 2 1 1 3 2 2 1 1 1 1 1 1 0 0 0 3 2 2\n",
      " 2 1 2 3 0 1 1 3 2 0 3 1 1 2 0 1 3 3 2 3 2 2 1 1 1 2 1 2 2 0 2 3 2 1 0 0 1\n",
      " 0 1 2 3 1 0 1 3 3 1 2 2 0 1 2 2 1 2 0 1 1 3 3 3 1 3 3 0 1 1 2 0 1 3 0 2 1\n",
      " 1 2 1 2 1 1 2 2 3 3 1 3 3 1 0 1 3 1 3 0 1 2 0 1 3 3 0 0 0 3 0 1 2 3 1 2 3\n",
      " 0 0 3 1 3 3 3 2 0 0 0 2 3 0 0 2 1 1 1 1 0 3 3 3 0 0 3 1 2 1 2 2 0 0 2 1 3\n",
      " 1 1 2 1 0 0 0 2 1 2 0 2 3 0 1 0 0 0 3 3 1 1 0 2 1 3 2 1 3 2 3 1 2 2 0 3 3\n",
      " 1 1 1 1 1 3 2 2 0 0 3 3 0 3 0 1 1 0 2 3 2 3 1 0 2 2 0 0 0 3 3 0 3 0 3 0 1\n",
      " 2 3 3 2 3 3 2 3 2 2 3 3 0 2 0 0 0 2 2 2 2 1 3 0 3 1 0 0 2 3 1 1 3 1 0 1 2\n",
      " 0 2 0 0 2 0 3 0 0 2 2 1 1 0 2 0 2 2 3 1 1 0 1 1 0 2 0 0 3 2 2 0 2 0 3 1 0\n",
      " 1 0 3 3 1 1 2 3 0 0 0 1 3 0 2 0 1 0 0 1 1 1 3 0 2 3 0 1 1 1 0 1]\n",
      "The model is 62.19178082191781% accurate\n"
     ]
    }
   ],
   "source": [
    "from sklearn.metrics import accuracy_score\n",
    "y_pred=model.predict(x_test)\n",
    "print(\"The predicted Data is :\")\n",
    "print(y_pred)\n",
    "print(\"The actual data is:\")\n",
    "print(np.array(y_test))\n",
    "print(f\"The model is {accuracy_score(y_pred,y_test)*100}% accurate\")"
   ]
  },
  {
   "cell_type": "code",
   "execution_count": null,
   "metadata": {},
   "outputs": [],
   "source": [
    "titles_options = [\n",
    "    (\"Confusion matrix, without normalization\", None),\n",
    "    (\"Normalized confusion matrix\", \"true\"),\n",
    "]\n",
    "for title, normalize in titles_options:\n",
    "    disp = ConfusionMatrixDisplay.from_estimator(\n",
    "        model,\n",
    "        x_test,\n",
    "        y_test,\n",
    "        display_labels=Categories,\n",
    "        cmap=plt.cm.Blues,\n",
    "        normalize=normalize,\n",
    "    )\n",
    "    disp.ax_.set_title(title)\n",
    "\n",
    "    print(title)\n",
    "    print(disp.confusion_matrix) # type: ignore\n",
    "\n",
    "plt.show()"
   ]
  },
  {
   "cell_type": "code",
   "execution_count": null,
   "metadata": {},
   "outputs": [],
   "source": [
    "sample_image = cv2.imread(\"./PXL_20230524_175015234.jpg\")\n",
    "sample_image = cv2.resize(sample_image, (128*4, 64*4))\n",
    "sample_image = cv2.cvtColor(sample_image, cv2.COLOR_BGR2GRAY)\n",
    "plt.imshow(sample_image, cmap=plt.cm.gray)"
   ]
  },
  {
   "cell_type": "code",
   "execution_count": null,
   "metadata": {},
   "outputs": [],
   "source": [
    "fd, hog_image = hog(\n",
    "    sample_image,\n",
    "    orientations=8,\n",
    "    pixels_per_cell=(16, 16),\n",
    "    cells_per_block=(1, 1),\n",
    "    visualize=True,\n",
    ")\n",
    "probability=model.predict_proba([fd])\n",
    "for ind,val in enumerate(Categories):\n",
    "    print(f'{val} = {probability[0][ind]*100}%')\n",
    "print(\"The predicted image is : \"+ Categories[model.predict([fd])[0]])\n",
    "plt.imshow(hog_image)"
   ]
  },
  {
   "cell_type": "code",
   "execution_count": null,
   "metadata": {},
   "outputs": [],
   "source": [
    "video = cv2.VideoCapture(0)\n",
    "\n",
    "success = True\n",
    "\n",
    "\n",
    "while success:\n",
    "    success , frame = video.read()\n",
    "    \n",
    "    if success == True:\n",
    "        \n",
    "        \n",
    "        # i want every 5th frame from video\n",
    "        # thats why i used following line of code\n",
    "        # i dont want all frames from video\n",
    "        # so we can decide the outpt frames count according to us.\n",
    "        \n",
    "        \n",
    "        sample_frame = cv2.resize(frame, (128*4, 64*4))\n",
    "        sample_frame = cv2.cvtColor(sample_frame, cv2.COLOR_BGR2GRAY)\n",
    "        fd, hog_image = hog(\n",
    "        sample_frame,\n",
    "        orientations=8,\n",
    "        pixels_per_cell=(16, 16),\n",
    "        cells_per_block=(1, 1),\n",
    "        visualize=True,\n",
    "    )\n",
    "        probability=model.predict_proba([fd])\n",
    "        for ind,val in enumerate(Categories):\n",
    "            print(f'{val} = {probability[0][ind]*100}%')\n",
    "        print(\"The predicted image is : \"+ Categories[model.predict([fd])[0]])\n",
    "        cv2.imshow(\"Image\", sample_frame)\n",
    "        if cv2.waitKey(1) == ord('q'):\n",
    "            break\n",
    "    else:\n",
    "        break"
   ]
  }
 ],
 "metadata": {
  "kernelspec": {
   "display_name": "envpy",
   "language": "python",
   "name": "python3"
  },
  "language_info": {
   "codemirror_mode": {
    "name": "ipython",
    "version": 3
   },
   "file_extension": ".py",
   "mimetype": "text/x-python",
   "name": "python",
   "nbconvert_exporter": "python",
   "pygments_lexer": "ipython3",
   "version": "3.10.6"
  },
  "orig_nbformat": 4
 },
 "nbformat": 4,
 "nbformat_minor": 2
}
